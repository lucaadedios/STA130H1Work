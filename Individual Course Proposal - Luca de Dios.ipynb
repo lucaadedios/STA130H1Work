{
 "cells": [
  {
   "cell_type": "markdown",
   "id": "203a551a",
   "metadata": {},
   "source": [
    "# Distinct Analysis 1\n",
    "\n",
    "\n",
    "### What is the relationship between the total household income of an individual and their current levels of satisfaction in life?\n",
    "\n",
    "\n",
    "### Description of Variables\n",
    "- For context, I wanted to explore whether the saying \"the more money you have, the happier you are\" is actually true or to what extent it is true. Examining the relationship between these two factors can provide insights into how socioeconomic factors, such as income, impact an individual's well-being.\n",
    "- As mentioned, I will be using two variables: household income and the individual's overall life satisfaction.\n",
    "\n",
    "#### Household Income\n",
    "- I chose household income as one of my variables because it provides a proper estimation of the amount of money an individual has at a given time and allows for easy differentiation between the levels of income among individuals.\n",
    "- The possible choices for data collection are intervals of either 5,000 or 10,000 for total household income. Once the income surpasses the threshold of 50,000, the intervals will increase to 10,000.\n",
    "- While there are many ways to visually represent the data, I believe the most appropriate choice would be a bar plot. Since the income levels are already categorized into bins with their intervals, a bar plot allows us to see the frequency and count of each income level. It highlights differences between categories, making it easy to see which income groups have higher or lower frequencies, averages, or other summary statistics.\n",
    "\n",
    "#### Satisfaction Levels\n",
    "- I believe the variable for satisfaction levels is effective, as it can provide an accurate representation of how happy an individual is at a given moment in relation to their overall life satisfaction.\n",
    "- The possible options for responses range from a scale of 1 to 10, where 10 indicates that the individual is very satisfied or the most satisfied with their life.\n",
    "- As with the other variable, I also think that using a bar plot is the best choice for visualizing this variable. The scale consists of discrete whole numbers, which can correspond to their own bars, allowing us to represent the frequency of responses clearly.\n",
    "\n",
    "#### Analysis\n",
    "- I believe the best method to approach this relationship would be simple linear regression, as it allows us to quantify how a change in income levels can impact an individual’s satisfaction level.\n",
    "- We can visually assess whether there is an upward, downward, or no relationship between these two variables.\n",
    "- Although simple linear regression typically uses continuous variables, we could potentially adjust our approach by using the midpoint of the income intervals as the corresponding x-values for the y-values (satisfaction levels) in the regression analysis.\n",
    "- One assumption is that the samples were taken independently, meaning that an individual's responses regarding life satisfaction did not influence another individual's responses.\n",
    "- I hypothesize that there will be an upward or positive trend between household income and life satisfaction levels, meaning that as total household income increases, the overall satisfaction level of individuals will also rise. I believe this is because having more money typically reduces financial stress and anxiety, providing individuals with greater flexibility in their choices and actions.\n",
    "- Understanding this relationship can provide insights into ways to enhance the well-being of individuals in relation to socioeconomic factors."
   ]
  },
  {
   "cell_type": "markdown",
   "id": "72c60a32",
   "metadata": {},
   "source": [
    "# Distinct Analysis 2\n",
    "\n",
    "\n",
    "### What is the relationship between how introverted a person is and how often they feel alone?\n",
    "\n",
    "\n",
    "### Description of Variables\n",
    "- I wanted to gain insight into how an introverted individual experiences social interactions and whether they wish to engage in these interactions.\n",
    "- I will be using two variables: how extroverted an individual feels and how often they feel left out of social situations.\n",
    "\n",
    "#### Extraversion Agreement\n",
    "- I chose to assess the extent to which a person thinks they are an extrovert because it provides a wide range of responses (on a 7-point scale: strongly agree, moderately agree, slightly agree, neutral, slightly disagree, moderately disagree, strongly disagree), and there was no information on how introverted an individual feels.\n",
    "- I believe the most appropriate choice would be a bar plot, as there are distinct categories mentioned above, which would correctly correspond to individual bars showing their frequency.\n",
    "- I could also use a stacked bar plot if I want to distinguish between different ethnic groups to see if there are underlying cultural factors; however, for simplicity, I will choose a bar plot.\n",
    "\n",
    "#### How often feeling left out\n",
    "- For my second variable, I chose how often an individual feels left out, as I believe it is a good indicator of how frequently they experience feelings of loneliness due to being consistently excluded or not.\n",
    "- The scale is similarly an agreement scale (totally disagree, somewhat disagree, disagree, agree, somewhat agree, totally agree) ranging across 6 distinct possible responses.\n",
    "- Again, I think the most appropriate visualization would be a bar plot, as this is a collection of categorical data, with each category represented by its own bar to show the value count or frequency of agreement versus disagreement.\n",
    "\n",
    "#### Analysis\n",
    "- I think that, although it may not be as straightforward with non-continuous variables, it is still feasible to convert the agreement responses into associated numerical values and then set up a regression model. This approach would treat the variables in an ordinal manner.\n",
    "- One assumption is that the samples are independently drawn, meaning that the response of one individual does not influence the response of another individual.\n",
    "- Additionally, since we are dealing with ordinal values, we should not over-rely on the distances between the points, as we only have access to discrete values.\n",
    "- I hypothesize that if the minimum response is \"disagree\" for both variables and the maximum response on the respective scale is \"agree,\" then the relationship between the two would show a positive correlation. This means that as an individual agrees more with being an extrovert, they are likely to also agree more with often feeling left out of social situations. I believe this is true because introverted individuals are more comfortable in isolated situations, and even if they are excluded, they prefer being alone and may not feel strongly about being left out.\n",
    "- Understanding the relationship between introversion and feelings of being left out is crucial for comprehending social dynamics within various populations. By examining this connection, we can gain insights into how individuals with different levels of introversion experience social interactions and feelings of inclusion or exclusion.\n"
   ]
  },
  {
   "cell_type": "markdown",
   "id": "37ede648",
   "metadata": {},
   "source": [
    "# Distinct Analysis 3 \n",
    "\n",
    "\n",
    "### What is the relationship between how many times and individual consumes hallucinogen and how frequent they make meaningful connections with other individuals in society?\n",
    "\n",
    "\n",
    "### Description of Variables\n",
    "- I wanted to gain better insight into how the use of hallucinogens can impact social behavior and dynamics within society, as well as whether we should promote or restrict access to these recreational drugs.\n",
    "- The two variables I’ll explore are the frequency of hallucinogen consumption in the past six months and the frequency of making meaningful connections with individuals (creating meaningful relationships).\n",
    "\n",
    "#### Hallucinogen Consumption\n",
    "- I chose this variable because it directly applies to the consumption of hallucinogens for the research question measuring frequency.\n",
    "- The possible answers consist of an ordinal set of six frequency options (not in the past six months, less than monthly, monthly, a few times a month, weekly, daily, or almost daily).\n",
    "- A bar plot would effectively demonstrate this data, showing how frequently the sample chosen uses hallucinogens, with each response corresponding to a given bar. We can measure the frequency by counting how many times each response appears.\n",
    "- Bar plots can also visualize trends in the data extracted.\n",
    "\n",
    "#### Meaningful Connections\n",
    "- I chose meaningful connections because it encapsulates various aspects of an individual's well-being, including emotional, social, and mental health, as well as behavior. This variable demonstrates the relationship skills an individual possesses, which are crucial for being effective and cohesive in society.\n",
    "- Similarly, this variable is measured on an ordinal scale with seven options (never, once or twice a year, once or twice a month, once or twice a week, many times a week, every day, and many times a day).\n",
    "- We can also use a bar plot to measure the frequency of making meaningful connections, which will be clearly represented by the height of the bars, with all the different options shown on the x-axis.\n",
    "\n",
    "#### Analysis\n",
    "- Although the values of both variables are discrete, I believe there is value in using simple linear regression, as it can show the upward and downward trends of the data and the relationship, if any, at the end.\n",
    "- We will convert the frequencies to values where the highest number indicates very frequent occurrences, and lower numbers indicate less frequency.\n",
    "- The assumption is that the data points are independent; we should not over-rely on the distances between points and should take them with a grain of salt, as we are using discrete values.\n",
    "- I hypothesize that as the frequency of hallucinogen consumption increases, there will also be an increase in the frequency with which individuals make meaningful connections with others in society.\n",
    "- I think this is because many users report that hallucinogens prompt profound introspection, helping individuals better understand their own emotions and relationships. Additionally, hallucinogens can significantly alter an individual’s perception of reality. This altered state may enhance emotional openness and empathy, allowing individuals to connect with others on a deeper level during or after the experience.\n",
    "- By investigating how hallucinogen use impacts social behavior, we can gain insights into the broader social dynamics that influence relationships and community cohesion. This understanding can help identify whether substances facilitate or hinder meaningful social interactions. Furthermore, we can assess whether hallucinogens do more good than harm to our society."
   ]
  }
 ],
 "metadata": {
  "kernelspec": {
   "display_name": "Python 3 (ipykernel)",
   "language": "python",
   "name": "python3"
  },
  "language_info": {
   "codemirror_mode": {
    "name": "ipython",
    "version": 3
   },
   "file_extension": ".py",
   "mimetype": "text/x-python",
   "name": "python",
   "nbconvert_exporter": "python",
   "pygments_lexer": "ipython3",
   "version": "3.11.6"
  }
 },
 "nbformat": 4,
 "nbformat_minor": 5
}
